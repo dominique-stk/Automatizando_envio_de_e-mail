{
  "nbformat": 4,
  "nbformat_minor": 0,
  "metadata": {
    "colab": {
      "name": "Projeto1.ipynb",
      "provenance": [],
      "mount_file_id": "1QZgMUzq8XfxLpq9KhdbrKVwpqvJgS6ep",
      "authorship_tag": "ABX9TyM/L+6sY9iuMyShd2+c4gIB",
      "include_colab_link": true
    },
    "kernelspec": {
      "name": "python3",
      "display_name": "Python 3"
    }
  },
  "cells": [
    {
      "cell_type": "markdown",
      "metadata": {
        "id": "view-in-github",
        "colab_type": "text"
      },
      "source": [
        "<a href=\"https://colab.research.google.com/github/dominique-stk/Automatizando_envio_de_e-mail/blob/main/Projeto1.ipynb\" target=\"_parent\"><img src=\"https://colab.research.google.com/assets/colab-badge.svg\" alt=\"Open In Colab\"/></a>"
      ]
    },
    {
      "cell_type": "code",
      "metadata": {
        "id": "wxVD3D4x_0FD"
      },
      "source": [
        ""
      ],
      "execution_count": null,
      "outputs": []
    },
    {
      "cell_type": "markdown",
      "metadata": {
        "id": "Va-BKmT4B_pJ"
      },
      "source": [
        "Passo a passo de construção de código:\r\n",
        "- 1: Importar a base de dados \r\n",
        "- 2: calcular o faturamento de cada loja\r\n",
        "- 3: calcular a quantida de produtos vendidos de cada loja\r\n",
        "- 4: calcular o ticket médio dos produtos de cada loja \r\n",
        "- 5: enviar e-mail "
      ]
    },
    {
      "cell_type": "code",
      "metadata": {
        "id": "Qd92S-3YXu7A"
      },
      "source": [
        "#importando base de dados com a biblioteca pandas\r\n",
        "import pandas as pd\r\n",
        "tabela_vendas = pd.read_excel(\"Vendas.xlsx\")\r\n",
        "\r\n",
        "#Calculando o faturamento de cada loja\r\n",
        "tabela_faturamento = tabela_vendas[['ID Loja', 'Valor Final']].groupby(\"ID Loja\").sum()\r\n",
        "tabela_faturamento = tabela_faturamento.sort_values(by=\"Valor Final\", ascending=True)\r\n",
        "\r\n",
        "#calculando a quantidade de produtos vendidos \r\n",
        "\r\n",
        "tabela_quantidade = tabela_vendas[[\"ID Loja\", \"Quantidade\"]].groupby(\"ID Loja\").sum()\r\n",
        "tabela_quantitade = tabela_quantitade.sort_values(by=\"Quantidade\", ascending=True)\r\n",
        "\r\n",
        "#calculando o ticket médio dos produtos de cada loja faturamento/quantidade\r\n",
        "ticket_medio = (tabela_faturamento[\"Valor Final\"] / tabela_quantidade[\"Quantidade\"]).to_frame()\r\n",
        "ticket_medio = ticket_medio.rename(columns={0: \"Ticket Medio\"})\r\n",
        "\r\n",
        "\r\n",
        "#Função enviar e-mail\r\n",
        "def enviar_email(nome_loja, tabela):\r\n",
        "  import smtplib\r\n",
        "  import email.message\r\n",
        "\r\n",
        "  server = smtplib.SMTP('smtp.gmail.com:587')  \r\n",
        "  corpo_email = f\"\"\" \r\n",
        "  <p> Prezados, </p>\r\n",
        "  <p> Segue relatório de vendas</p>\r\n",
        "  {tabela.to_html()}\"\"\"  #editar\r\n",
        "    \r\n",
        "  msg = email.message.Message()\r\n",
        "  msg['Subject'] = f\"Relatório de Vendas - {nome_loja}\" #editar\r\n",
        "    \r\n",
        "  # Fazer antes (apenas na 1ª vez): Ativar Aplicativos não Seguros.\r\n",
        "  # Gerenciar Conta Google -> Segurança -> Aplicativos não Seguros -> Habilitar\r\n",
        "  # Caso mesmo assim dê o erro: smtplib.SMTPAuthenticationError: (534,\r\n",
        "  # Você faz o login no seu e-mail e depois entra em: https://accounts.google.com/DisplayUnlockCaptcha\r\n",
        "  msg['From'] = '' #editar\r\n",
        "  msg['To'] = '' #editar\r\n",
        "  password = \"\" #editar\r\n",
        "  msg.add_header('Content-Type', 'text/html')\r\n",
        "  msg.set_payload(corpo_email )\r\n",
        "    \r\n",
        "  s = smtplib.SMTP('smtp.gmail.com: 587')\r\n",
        "  s.starttls()\r\n",
        "  # Login Credentials for sending the mail\r\n",
        "  s.login(msg['From'], password)\r\n",
        "  s.sendmail(msg['From'], [msg['To']], msg.as_string().encode('utf-8'))\r\n",
        "  print('Email enviado')\r\n",
        "\r\n",
        "\r\n",
        "# enviando_email para  diretoria com todos os dados\r\n",
        "tabela_completa = tabela_faturamento.join(tabela_quantidade).join(ticket_medio)\r\n",
        "enviar_email(\"Diretoria\", tabela_completa)\r\n",
        "\r\n",
        "\r\n",
        "#e-mail para cada loja com filtro de linhas e colunas\r\n",
        "lista_lojas = tabela_vendas[\"ID Loja\"].unique()\r\n",
        "for loja in lista_lojas:\r\n",
        "  tabela_loja = tabela_vendas.loc[tabela_vendas[\"ID Loja\"] == loja, [\"ID Loja\", \"Quantidade\", \"Valor Final\"]]\r\n",
        "  tabela_loja = tabela_loja.groupby(\"ID Loja\").sum()\r\n",
        "  tabela_loja[\"Ticket Medio\"] = tabela_loja[\"Valor Final\"] / tabela_loja[\"Quantidade\"]\r\n",
        "  enviar_email(loja, tabela_loja)\r\n",
        "\r\n",
        "\r\n",
        "\r\n",
        "\r\n",
        "\r\n",
        "\r\n"
      ],
      "execution_count": null,
      "outputs": []
    },
    {
      "cell_type": "code",
      "metadata": {
        "id": "1ri1ZsEbTa1z"
      },
      "source": [
        ""
      ],
      "execution_count": null,
      "outputs": []
    }
  ]
}